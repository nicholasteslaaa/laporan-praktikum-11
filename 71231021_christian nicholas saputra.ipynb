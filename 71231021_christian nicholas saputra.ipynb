{
 "cells": [
  {
   "cell_type": "markdown",
   "id": "032954aa",
   "metadata": {},
   "source": [
    "latihan mandiri 1"
   ]
  },
  {
   "cell_type": "code",
   "execution_count": 13,
   "id": "9750e432",
   "metadata": {},
   "outputs": [
    {
     "name": "stdout",
     "output_type": "stream",
     "text": [
      "True\n",
      "False\n",
      "True\n",
      "False\n"
     ]
    }
   ],
   "source": [
    "def sama(tA):\n",
    "    if tA.count(tA[0]) == len(tA):\n",
    "        print(True)\n",
    "    else:\n",
    "        print(False)\n",
    "\n",
    "# test case    \n",
    "sama((90, 90, 90, 90))\n",
    "sama((90, 91, 90, 90))\n",
    "sama((1,1,1,1,1))\n",
    "sama((90, 91, 91, 91))\n",
    "\n"
   ]
  },
  {
   "cell_type": "markdown",
   "id": "253e4026",
   "metadata": {},
   "source": [
    "latihan mandiri 2"
   ]
  },
  {
   "cell_type": "code",
   "execution_count": 2,
   "id": "f9ffed24",
   "metadata": {},
   "outputs": [
    {
     "name": "stdout",
     "output_type": "stream",
     "text": [
      "NIM\t: 22064091\n",
      "NAMA\t: Matahari Bhakti Nendya\n",
      "ALAMAT\t: Bantul, DI Yogyakarta\n",
      "\n",
      "NIM: ('2', '2', '0', '6', '4', '0', '9', '1')\n",
      "NAMA DEPAN: ('a', 't', 'a', 'h', 'a', 'r', 'i')\n",
      "NAMA TERBALIK: ('Nendya', 'Bhakti', 'Matahari')\n",
      "\n"
     ]
    }
   ],
   "source": [
    "Data = ('Matahari Bhakti Nendya', '22064091', 'Bantul, DI Yogyakarta')\n",
    "\n",
    "for i in Data:\n",
    "    if \",\" in i:\n",
    "        alamat = i\n",
    "    elif i.isdigit():\n",
    "        nim = i\n",
    "    else:\n",
    "        nama = i        \n",
    "        \n",
    "print(f\"NIM\\t: {nim}\\nNAMA\\t: {nama}\\nALAMAT\\t: {alamat}\\n\")\n",
    "\n",
    "nim = tuple(nim)\n",
    "nama_split = nama.split()\n",
    "nama_depan = tuple(nama_split[0][1:])\n",
    "print(f\"NIM: {nim}\\nNAMA DEPAN: {nama_depan}\\nNAMA TERBALIK: {tuple(nama_split[::-1])}\\n\")"
   ]
  },
  {
   "cell_type": "markdown",
   "id": "440d8181",
   "metadata": {},
   "source": [
    "latihan mandiri 3"
   ]
  },
  {
   "cell_type": "code",
   "execution_count": 1,
   "id": "e94563f1",
   "metadata": {},
   "outputs": [
    {
     "name": "stdout",
     "output_type": "stream",
     "text": [
      "04 3\n",
      "06 1\n",
      "07 1\n",
      "09 2\n",
      "10 3\n",
      "11 6\n",
      "14 1\n",
      "15 2\n",
      "16 4\n",
      "17 2\n",
      "18 1\n",
      "19 1\n"
     ]
    }
   ],
   "source": [
    "file = open(str(input(\"Enter a file name: \")))\n",
    "\n",
    "hour_log = []\n",
    "unique_hour = []\n",
    "for i in file:\n",
    "    if i.startswith(\"From \"):\n",
    "        for j in i.split():\n",
    "            if \":\" in j:\n",
    "                hour_log.append(j[:2])\n",
    "                if j[:2] not in unique_hour:\n",
    "                    unique_hour.append(j[:2])\n",
    "for i in sorted(unique_hour):\n",
    "    print(i,hour_log.count(i))"
   ]
  }
 ],
 "metadata": {
  "kernelspec": {
   "display_name": "Python 3",
   "language": "python",
   "name": "python3"
  },
  "language_info": {
   "codemirror_mode": {
    "name": "ipython",
    "version": 3
   },
   "file_extension": ".py",
   "mimetype": "text/x-python",
   "name": "python",
   "nbconvert_exporter": "python",
   "pygments_lexer": "ipython3",
   "version": "3.12.1"
  }
 },
 "nbformat": 4,
 "nbformat_minor": 5
}
